{
 "cells": [
  {
   "cell_type": "code",
   "execution_count": 1,
   "metadata": {},
   "outputs": [
    {
     "name": "stderr",
     "output_type": "stream",
     "text": [
      "c:\\Users\\tjwin\\anaconda3\\envs\\crewai_env\\Lib\\site-packages\\pydantic\\_internal\\_config.py:295: PydanticDeprecatedSince20: Support for class-based `config` is deprecated, use ConfigDict instead. Deprecated in Pydantic V2.0 to be removed in V3.0. See Pydantic V2 Migration Guide at https://errors.pydantic.dev/2.10/migration/\n",
      "  warnings.warn(DEPRECATION_MESSAGE, DeprecationWarning)\n",
      "c:\\Users\\tjwin\\anaconda3\\envs\\crewai_env\\Lib\\site-packages\\pydantic\\_internal\\_generate_schema.py:502: UserWarning: <built-in function callable> is not a Python type (it may be an instance of an object), Pydantic will allow any object with no validation since we cannot even enforce that the input is an instance of the given type. To get rid of this error wrap the type with `pydantic.SkipValidation`.\n",
      "  warn(\n",
      "c:\\Users\\tjwin\\anaconda3\\envs\\crewai_env\\Lib\\site-packages\\crewai_tools\\tools\\scrapegraph_scrape_tool\\scrapegraph_scrape_tool.py:34: PydanticDeprecatedSince20: Pydantic V1 style `@validator` validators are deprecated. You should migrate to Pydantic V2 style `@field_validator` validators, see the migration guide for more details. Deprecated in Pydantic V2.0 to be removed in V3.0. See Pydantic V2 Migration Guide at https://errors.pydantic.dev/2.10/migration/\n",
      "  @validator(\"website_url\")\n",
      "c:\\Users\\tjwin\\anaconda3\\envs\\crewai_env\\Lib\\site-packages\\crewai_tools\\tools\\selenium_scraping_tool\\selenium_scraping_tool.py:26: PydanticDeprecatedSince20: Pydantic V1 style `@validator` validators are deprecated. You should migrate to Pydantic V2 style `@field_validator` validators, see the migration guide for more details. Deprecated in Pydantic V2.0 to be removed in V3.0. See Pydantic V2 Migration Guide at https://errors.pydantic.dev/2.10/migration/\n",
      "  @validator(\"website_url\")\n",
      "c:\\Users\\tjwin\\anaconda3\\envs\\crewai_env\\Lib\\site-packages\\crewai_tools\\tools\\vision_tool\\vision_tool.py:15: PydanticDeprecatedSince20: Pydantic V1 style `@validator` validators are deprecated. You should migrate to Pydantic V2 style `@field_validator` validators, see the migration guide for more details. Deprecated in Pydantic V2.0 to be removed in V3.0. See Pydantic V2 Migration Guide at https://errors.pydantic.dev/2.10/migration/\n",
      "  @validator(\"image_path_url\")\n"
     ]
    }
   ],
   "source": [
    "from crewai import Agent,Task,Crew,Process,LLM\n",
    "from key import gooogle_api_key,serper_api_key\n",
    "from crewai_tools import WebsiteSearchTool,ScrapeWebsiteTool,SerperDevTool"
   ]
  },
  {
   "cell_type": "code",
   "execution_count": 2,
   "metadata": {},
   "outputs": [],
   "source": [
    "import os\n",
    "os.environ[\"GOOGLE_API_KEY\"] = gooogle_api_key\n",
    "os.environ[\"SERPER_API_KEY\"] = serper_api_key"
   ]
  },
  {
   "cell_type": "code",
   "execution_count": 12,
   "metadata": {},
   "outputs": [],
   "source": [
    "from crewai.tools import tool\n",
    "from langchain_community.tools import DuckDuckGoSearchResults \n",
    "import json\n",
    "\n",
    "\n",
    "@tool\n",
    "def search_web_tool(query: str):\n",
    "    \"\"\"\n",
    "    Searches the web and returns results.\n",
    "    \"\"\"\n",
    "    search_tool = DuckDuckGoSearchResults(num_results=10, verbose=True)\n",
    "    return search_tool.run(query)\n",
    "\n",
    "\n",
    "# search_web_tool = WebsiteSearchTool(\n",
    "#     config=dict(\n",
    "#         llm=dict(\n",
    "#             provider=\"ollama\",\n",
    "#             config=dict(\n",
    "#                 model=\"llama2\",\n",
    "#             ),\n",
    "#         ),\n",
    "#         embedder=dict(\n",
    "#             provider=\"google\",\n",
    "#             config=dict(\n",
    "#                 model=\"models/embedding-001\",\n",
    "#                 task_type=\"retrieval_document\",\n",
    "#             ),\n",
    "#         ),\n",
    "#     )\n",
    "# )\n",
    "\n",
    "\n",
    "scraper = ScrapeWebsiteTool()\n",
    "serper = SerperDevTool()"
   ]
  },
  {
   "cell_type": "code",
   "execution_count": 13,
   "metadata": {},
   "outputs": [],
   "source": [
    "from crewai import LLM\n",
    "\n",
    "llm = LLM(\n",
    "    model=\"gemini/gemini-1.5-flash\",\n",
    "    temperature=0.7,\n",
    "    #vertex_credentials=vertex_credentials_json\n",
    "    api_key=gooogle_api_key\n",
    ")"
   ]
  },
  {
   "cell_type": "code",
   "execution_count": 21,
   "metadata": {},
   "outputs": [],
   "source": [
    "booking_agent = Agent(\n",
    "    role = \"Booking Specialist\",\n",
    "    goal = \"Streamline a flights or trains (which ever will be the best)with in the budget. \",\n",
    "    backstory = (\"\"\"You are skilled in finding the best deals and securing bookings quickly at cheapest.\"\"\"),\n",
    "    memory = True,\n",
    "    allow_deligation = True,\n",
    "    verbose = True,\n",
    "    tools = [scraper,serper],\n",
    "    llm = llm)"
   ]
  },
  {
   "cell_type": "code",
   "execution_count": 22,
   "metadata": {},
   "outputs": [],
   "source": [
    "travel_planner_ag = Agent(\n",
    "    role = \"Travel Planner\",\n",
    "    goal = \"Schedule the complete plan from day to night.\",\n",
    "    backstory = (\"An expert in travel planning who knows the best destinations for every type of traveler.\"),\n",
    "    tools = [scraper,serper],\n",
    "    memory = True,\n",
    "    allow_deligation = True,\n",
    "    llm = llm ,verbose = True\n",
    ")"
   ]
  },
  {
   "cell_type": "code",
   "execution_count": null,
   "metadata": {},
   "outputs": [],
   "source": [
    "booking_task = Task(\n",
    "    description=(\"\"\"\n",
    "    This task focuses on streamlining transportation (either flights or trains, whichever is the best) from {start_trip} on {start_date} to {destination} and return date will be next day from the stay. \n",
    "    Additionally, it includes finding suitable hotel accommodations in {destination} within the given budget of {Budget} for {people} people with a stay duration of {day} days.\n",
    "\n",
    "    Key Considerations:\n",
    "    - Prioritize the cheapest flight/train options while ensuring a balance between cost and convenience.\n",
    "    - Find budget-friendly and well-rated hotels in {destination}.\n",
    "    - Ensure all options are properly arranged in a structured format.\n",
    "    - Provide direct booking links for flights, trains, and hotels.\n",
    "\n",
    "    \"\"\"),\n",
    "    expected_output=f\"\"\"\n",
    "    In markdown format: A structured report that categorizes available options under headings:\n",
    "    - **Flights/Trains**: Cheapest available transportation options.\n",
    "    - **Hotels**: Affordable and comfortable stay recommendations.\n",
    "    \n",
    "    Ensure that links to booking pages are included for all options.\n",
    "    \"\"\",\n",
    "    agent=booking_agent,\n",
    "    tools=[scraper,serper],\n",
    ")\n"
   ]
  },
  {
   "cell_type": "code",
   "execution_count": 31,
   "metadata": {},
   "outputs": [],
   "source": [
    "travel_planner_task = Task(\n",
    "    description = \"streamline the places where user can visit including the main activity at {destination}.\",\n",
    "    agent = travel_planner_ag,\n",
    "    expected_output = \"\"\"\n",
    "    In markdown format: A structured report that categorizes available options under headings:\n",
    "    - **Flights/Trains**: Cheapest available transportation options with in the table having two rows.\n",
    "    - **Hotels**: Affordable and comfortable stay recommendations with in the table having two rows.\n",
    "    - **Schedule**: complete schedule from day to night with eating preferences with time stamps\n",
    "    \n",
    "    Ensure that links to booking pages are included for all options.\n",
    "\"\"\",\n",
    "    output_file=\"Plan.md\"\n",
    ")"
   ]
  },
  {
   "cell_type": "code",
   "execution_count": 32,
   "metadata": {},
   "outputs": [
    {
     "name": "stderr",
     "output_type": "stream",
     "text": [
      "2025-03-06 18:50:15,714 - 14284 - __init__.py-__init__:537 - WARNING: Overriding of current TracerProvider is not allowed\n"
     ]
    }
   ],
   "source": [
    "crew_ = Crew(\n",
    "    agents=[booking_agent,travel_planner_ag],\n",
    "    tasks=[booking_task,travel_planner_task],\n",
    "    process=Process.sequential,\n",
    "    full_output=True,\n",
    "    share_crew=False,\n",
    "    verbose=True\n",
    ")"
   ]
  },
  {
   "cell_type": "code",
   "execution_count": 35,
   "metadata": {},
   "outputs": [
    {
     "ename": "SyntaxError",
     "evalue": "leading zeros in decimal integer literals are not permitted; use an 0o prefix for octal integers (645849508.py, line 1)",
     "output_type": "error",
     "traceback": [
      "\u001b[1;36m  Cell \u001b[1;32mIn[35], line 1\u001b[1;36m\u001b[0m\n\u001b[1;33m    results = crew_.kickoff(inputs={\"start_trip\":\"Chandigarh\",\"destination\":\"Banglore\",\"Budget\" : 30000,\"people\":2,\"day\":2,\"start_date\":05-04-2025})\u001b[0m\n\u001b[1;37m                                                                                                                                        ^\u001b[0m\n\u001b[1;31mSyntaxError\u001b[0m\u001b[1;31m:\u001b[0m leading zeros in decimal integer literals are not permitted; use an 0o prefix for octal integers\n"
     ]
    }
   ],
   "source": [
    "results = crew_.kickoff(inputs={\"start_trip\":\"Chandigarh\",\"destination\":\"Banglore\",\"Budget\" : 30000,\"people\":2,\"day\":2,\"start_date\":05-04-2025})"
   ]
  },
  {
   "cell_type": "code",
   "execution_count": 36,
   "metadata": {},
   "outputs": [
    {
     "data": {
      "text/markdown": [
       "# Bangalore Trip Plan (Customize Budget and Duration)\n",
       "\n",
       "This plan provides a framework. Adjust the budget and duration to your preferences.  Remember to book flights and hotels well in advance for better deals.  Prices are estimates and can vary.\n",
       "\n",
       "## Flights/Trains:\n",
       "\n",
       "Finding the cheapest flights or trains requires specifying your origin city and travel dates. Use online travel agencies like MakeMyTrip, Goibibo, Expedia, Skyscanner, etc., to compare prices.\n",
       "\n",
       "| Option        | Booking Link                                                                | Estimated Price (per person, round trip) |\n",
       "|----------------|-----------------------------------------------------------------------------|-----------------------------------------|\n",
       "| Flight (Example)| [https://www.makemytrip.com/flights/](https://www.makemytrip.com/flights/) | ₹3000 - ₹6000 (depending on origin and time of booking) |\n",
       "| Train (Example) | [https://www.irctc.co.in/](https://www.irctc.co.in/)                        | ₹1500 - ₹3000 (depending on origin and class)             |\n",
       "\n",
       "\n",
       "**Note:**  Train travel can be significantly cheaper than flights, especially for longer distances, but it takes considerably longer.\n",
       "\n",
       "\n",
       "## Hotels:\n",
       "\n",
       "Many budget-friendly hotels are available in Bangalore. Use online travel agencies like MakeMyTrip, Goibibo, OYO Rooms, Booking.com etc., to find options that suit your budget and preferences. Read reviews before booking.\n",
       "\n",
       "| Option        | Booking Link                                                              | Estimated Price (per night, double occupancy) |\n",
       "|----------------|---------------------------------------------------------------------------|---------------------------------------------|\n",
       "| Budget Hotel (Example) | [https://www.oyorooms.com/](https://www.oyorooms.com/)                   | ₹1000 - ₹2500                                     |\n",
       "| Mid-Range Hotel (Example)| [https://www.booking.com/](https://www.booking.com/)                  | ₹3000 - ₹5000                                     |\n",
       "\n",
       "\n",
       "## Schedule (Example - 2 Days):\n",
       "\n",
       "\n",
       "**Day 1:**\n",
       "\n",
       "* **8:00 AM:** Arrive in Bangalore, check into your hotel.\n",
       "* **9:00 AM:** Breakfast at a local South Indian restaurant (Idli, Dosa).\n",
       "* **10:00 AM:** Visit Lalbagh Botanical Garden.\n",
       "* **1:00 PM:** Lunch at a restaurant near Lalbagh. (Try South Indian Thali)\n",
       "* **2:30 PM:** Visit Bangalore Palace.\n",
       "* **5:00 PM:** Explore Commercial Street for shopping.\n",
       "* **7:00 PM:** Dinner at a restaurant on MG Road (North Indian or Continental cuisine).\n",
       "* **8:30 PM:** Relax at the hotel or explore the local area.\n",
       "\n",
       "**Day 2:**\n",
       "\n",
       "* **8:00 AM:** Breakfast at the hotel or a nearby cafe.\n",
       "* **9:00 AM:** Visit Cubbon Park.\n",
       "* **11:00 AM:** Visit Tipu Sultan's Summer Palace.\n",
       "* **1:00 PM:** Lunch at a restaurant near Cubbon Park (Try street food like Pani Puri).\n",
       "* **2:30 PM:** Visit ISKCON Temple.\n",
       "* **4:30 PM:** Visit Vidhana Soudha.\n",
       "* **6:00 PM:** Enjoy street food or a casual dinner near your hotel.\n",
       "* **7:30 PM:** Depart from Bangalore.\n",
       "\n",
       "\n",
       "**Food Preferences:** The schedule includes suggestions for South Indian and North Indian cuisine, as well as street food options. Adapt this to your preferences.  Bangalore offers diverse culinary options.\n",
       "\n",
       "\n",
       "**Note:** This is a sample schedule.  Adjust it based on your interests and the duration of your trip.  Consider using public transportation or ride-sharing apps within Bangalore to save money and time.  Always confirm timings and opening hours for the places you plan to visit."
      ],
      "text/plain": [
       "<IPython.core.display.Markdown object>"
      ]
     },
     "metadata": {},
     "output_type": "display_data"
    }
   ],
   "source": [
    "from IPython.display import Markdown, display\n",
    "\n",
    "# Path to your Markdown file\n",
    "\n",
    "\n",
    "# Open and read the Markdown file\n",
    "with open(\"Plan.md\", \"r\", encoding=\"utf-8\") as md_file:\n",
    "    content = md_file.read()\n",
    "\n",
    "# Render and display the Markdown content in the notebook\n",
    "display(Markdown(content))"
   ]
  },
  {
   "cell_type": "code",
   "execution_count": null,
   "metadata": {},
   "outputs": [],
   "source": []
  },
  {
   "cell_type": "code",
   "execution_count": null,
   "metadata": {},
   "outputs": [],
   "source": []
  }
 ],
 "metadata": {
  "kernelspec": {
   "display_name": "crewai_env",
   "language": "python",
   "name": "python3"
  },
  "language_info": {
   "codemirror_mode": {
    "name": "ipython",
    "version": 3
   },
   "file_extension": ".py",
   "mimetype": "text/x-python",
   "name": "python",
   "nbconvert_exporter": "python",
   "pygments_lexer": "ipython3",
   "version": "3.12.9"
  }
 },
 "nbformat": 4,
 "nbformat_minor": 2
}
